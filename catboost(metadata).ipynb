{
 "cells": [
  {
   "cell_type": "code",
   "execution_count": 1,
   "id": "13cd2d74",
   "metadata": {},
   "outputs": [],
   "source": [
    "import pandas as pd\n",
    "import numpy as np"
   ]
  },
  {
   "cell_type": "code",
   "execution_count": 2,
   "id": "47483c25",
   "metadata": {},
   "outputs": [],
   "source": [
    "data=pd.read_excel(r\"C:\\Users\\m.priyanka\\Desktop\\metadata.xlsx\")"
   ]
  },
  {
   "cell_type": "code",
   "execution_count": 3,
   "id": "1cc1c58b",
   "metadata": {},
   "outputs": [
    {
     "data": {
      "text/html": [
       "<div>\n",
       "<style scoped>\n",
       "    .dataframe tbody tr th:only-of-type {\n",
       "        vertical-align: middle;\n",
       "    }\n",
       "\n",
       "    .dataframe tbody tr th {\n",
       "        vertical-align: top;\n",
       "    }\n",
       "\n",
       "    .dataframe thead th {\n",
       "        text-align: right;\n",
       "    }\n",
       "</style>\n",
       "<table border=\"1\" class=\"dataframe\">\n",
       "  <thead>\n",
       "    <tr style=\"text-align: right;\">\n",
       "      <th></th>\n",
       "      <th>TotalArea(Sqft)</th>\n",
       "      <th>SlabArea(Sqft)</th>\n",
       "      <th>BuildingAge(Years)</th>\n",
       "      <th>FloorNumber</th>\n",
       "      <th>NoofBHK</th>\n",
       "      <th>NoofBathrooms</th>\n",
       "      <th>HouseType</th>\n",
       "      <th>MainDoorFacing</th>\n",
       "      <th>TypeofFurnish</th>\n",
       "      <th>AvailabilityofDiningHall</th>\n",
       "      <th>AvailabilityofParkingLot</th>\n",
       "      <th>AvailabilityofGarden</th>\n",
       "      <th>SellingPriceInCr</th>\n",
       "    </tr>\n",
       "  </thead>\n",
       "  <tbody>\n",
       "    <tr>\n",
       "      <th>0</th>\n",
       "      <td>3200</td>\n",
       "      <td>2600</td>\n",
       "      <td>4</td>\n",
       "      <td>1</td>\n",
       "      <td>3</td>\n",
       "      <td>3</td>\n",
       "      <td>Independent</td>\n",
       "      <td>East</td>\n",
       "      <td>Fully Furnished</td>\n",
       "      <td>Yes</td>\n",
       "      <td>Yes</td>\n",
       "      <td>Yes</td>\n",
       "      <td>1.60</td>\n",
       "    </tr>\n",
       "    <tr>\n",
       "      <th>1</th>\n",
       "      <td>2500</td>\n",
       "      <td>2000</td>\n",
       "      <td>1</td>\n",
       "      <td>1</td>\n",
       "      <td>2</td>\n",
       "      <td>2</td>\n",
       "      <td>Independent</td>\n",
       "      <td>East</td>\n",
       "      <td>Semi-Furnished</td>\n",
       "      <td>No</td>\n",
       "      <td>Yes</td>\n",
       "      <td>Yes</td>\n",
       "      <td>1.35</td>\n",
       "    </tr>\n",
       "    <tr>\n",
       "      <th>2</th>\n",
       "      <td>2500</td>\n",
       "      <td>2250</td>\n",
       "      <td>1</td>\n",
       "      <td>1</td>\n",
       "      <td>4</td>\n",
       "      <td>4</td>\n",
       "      <td>Independent</td>\n",
       "      <td>North</td>\n",
       "      <td>Unfurnished</td>\n",
       "      <td>No</td>\n",
       "      <td>Yes</td>\n",
       "      <td>No</td>\n",
       "      <td>0.92</td>\n",
       "    </tr>\n",
       "    <tr>\n",
       "      <th>3</th>\n",
       "      <td>5771</td>\n",
       "      <td>5350</td>\n",
       "      <td>1</td>\n",
       "      <td>2</td>\n",
       "      <td>8</td>\n",
       "      <td>8</td>\n",
       "      <td>Independent</td>\n",
       "      <td>East</td>\n",
       "      <td>Unfurnished</td>\n",
       "      <td>No</td>\n",
       "      <td>Yes</td>\n",
       "      <td>No</td>\n",
       "      <td>2.80</td>\n",
       "    </tr>\n",
       "    <tr>\n",
       "      <th>4</th>\n",
       "      <td>3500</td>\n",
       "      <td>3000</td>\n",
       "      <td>3</td>\n",
       "      <td>2</td>\n",
       "      <td>6</td>\n",
       "      <td>6</td>\n",
       "      <td>Independent</td>\n",
       "      <td>West</td>\n",
       "      <td>Unfurnished</td>\n",
       "      <td>No</td>\n",
       "      <td>Yes</td>\n",
       "      <td>No</td>\n",
       "      <td>1.55</td>\n",
       "    </tr>\n",
       "  </tbody>\n",
       "</table>\n",
       "</div>"
      ],
      "text/plain": [
       "   TotalArea(Sqft)  SlabArea(Sqft)  BuildingAge(Years)  FloorNumber  NoofBHK  \\\n",
       "0             3200            2600                   4            1        3   \n",
       "1             2500            2000                   1            1        2   \n",
       "2             2500            2250                   1            1        4   \n",
       "3             5771            5350                   1            2        8   \n",
       "4             3500            3000                   3            2        6   \n",
       "\n",
       "   NoofBathrooms    HouseType MainDoorFacing    TypeofFurnish  \\\n",
       "0              3  Independent           East  Fully Furnished   \n",
       "1              2  Independent           East   Semi-Furnished   \n",
       "2              4  Independent          North      Unfurnished   \n",
       "3              8  Independent           East      Unfurnished   \n",
       "4              6  Independent           West      Unfurnished   \n",
       "\n",
       "  AvailabilityofDiningHall AvailabilityofParkingLot AvailabilityofGarden  \\\n",
       "0                      Yes                      Yes                  Yes   \n",
       "1                       No                      Yes                  Yes   \n",
       "2                       No                      Yes                   No   \n",
       "3                       No                      Yes                   No   \n",
       "4                       No                      Yes                   No   \n",
       "\n",
       "   SellingPriceInCr  \n",
       "0              1.60  \n",
       "1              1.35  \n",
       "2              0.92  \n",
       "3              2.80  \n",
       "4              1.55  "
      ]
     },
     "execution_count": 3,
     "metadata": {},
     "output_type": "execute_result"
    }
   ],
   "source": [
    "data.head()"
   ]
  },
  {
   "cell_type": "code",
   "execution_count": 4,
   "id": "dbb4868b",
   "metadata": {},
   "outputs": [
    {
     "name": "stdout",
     "output_type": "stream",
     "text": [
      "<class 'pandas.core.frame.DataFrame'>\n",
      "RangeIndex: 35 entries, 0 to 34\n",
      "Data columns (total 13 columns):\n",
      " #   Column                    Non-Null Count  Dtype  \n",
      "---  ------                    --------------  -----  \n",
      " 0   TotalArea(Sqft)           35 non-null     int64  \n",
      " 1   SlabArea(Sqft)            35 non-null     int64  \n",
      " 2   BuildingAge(Years)        35 non-null     int64  \n",
      " 3   FloorNumber               35 non-null     int64  \n",
      " 4   NoofBHK                   35 non-null     int64  \n",
      " 5   NoofBathrooms             35 non-null     int64  \n",
      " 6   HouseType                 35 non-null     object \n",
      " 7   MainDoorFacing            35 non-null     object \n",
      " 8   TypeofFurnish             35 non-null     object \n",
      " 9   AvailabilityofDiningHall  35 non-null     object \n",
      " 10  AvailabilityofParkingLot  35 non-null     object \n",
      " 11  AvailabilityofGarden      35 non-null     object \n",
      " 12  SellingPriceInCr          35 non-null     float64\n",
      "dtypes: float64(1), int64(6), object(6)\n",
      "memory usage: 3.7+ KB\n"
     ]
    }
   ],
   "source": [
    "data.info()"
   ]
  },
  {
   "cell_type": "code",
   "execution_count": 5,
   "id": "ba1f85e9",
   "metadata": {},
   "outputs": [],
   "source": [
    "train=data.drop(['SellingPriceInCr'],axis=1)"
   ]
  },
  {
   "cell_type": "code",
   "execution_count": 6,
   "id": "0bd3fd3a",
   "metadata": {},
   "outputs": [],
   "source": [
    " Price=data['SellingPriceInCr']"
   ]
  },
  {
   "cell_type": "code",
   "execution_count": 7,
   "id": "73c84b26",
   "metadata": {},
   "outputs": [],
   "source": [
    "from catboost import CatBoostRegressor,Pool"
   ]
  },
  {
   "cell_type": "code",
   "execution_count": 8,
   "id": "631dc7f5",
   "metadata": {},
   "outputs": [],
   "source": [
    "model=CatBoostRegressor(n_estimators=200,loss_function='RMSE',learning_rate=0.4,depth=2,task_type='CPU',random_state=1,verbose=False)"
   ]
  },
  {
   "cell_type": "code",
   "execution_count": 9,
   "id": "377a9817",
   "metadata": {},
   "outputs": [],
   "source": [
    "from sklearn.model_selection import train_test_split"
   ]
  },
  {
   "cell_type": "code",
   "execution_count": 10,
   "id": "48d0c1ad",
   "metadata": {},
   "outputs": [],
   "source": [
    "x_train,x_test,y_train,y_test=train_test_split(train,Price,test_size=0.20,random_state=2)"
   ]
  },
  {
   "cell_type": "code",
   "execution_count": 11,
   "id": "8260ee07",
   "metadata": {},
   "outputs": [],
   "source": [
    "pool_train=Pool(x_train,y_train,cat_features=['HouseType','MainDoorFacing','TypeofFurnish','AvailabilityofDiningHall','AvailabilityofParkingLot','AvailabilityofGarden'])"
   ]
  },
  {
   "cell_type": "code",
   "execution_count": 12,
   "id": "86c4daca",
   "metadata": {},
   "outputs": [],
   "source": [
    "pool_test=Pool(x_test,cat_features=['HouseType','MainDoorFacing','TypeofFurnish','AvailabilityofDiningHall','AvailabilityofParkingLot','AvailabilityofGarden'])"
   ]
  },
  {
   "cell_type": "code",
   "execution_count": 13,
   "id": "720780d6",
   "metadata": {},
   "outputs": [
    {
     "data": {
      "text/plain": [
       "<catboost.core.CatBoostRegressor at 0x2309e88aa30>"
      ]
     },
     "execution_count": 13,
     "metadata": {},
     "output_type": "execute_result"
    }
   ],
   "source": [
    "model.fit(pool_train)"
   ]
  },
  {
   "cell_type": "code",
   "execution_count": 14,
   "id": "93401cc5",
   "metadata": {},
   "outputs": [],
   "source": [
    "y_pred=model.predict(pool_test)"
   ]
  },
  {
   "cell_type": "code",
   "execution_count": 15,
   "id": "be3a41be",
   "metadata": {},
   "outputs": [
    {
     "data": {
      "text/plain": [
       "array([0.6721006 , 0.78981087, 2.43142469, 0.78360877, 2.16395453,\n",
       "       2.02788293, 1.79240725])"
      ]
     },
     "execution_count": 15,
     "metadata": {},
     "output_type": "execute_result"
    }
   ],
   "source": [
    "y_pred"
   ]
  },
  {
   "cell_type": "code",
   "execution_count": 16,
   "id": "3e7bee55",
   "metadata": {},
   "outputs": [
    {
     "data": {
      "text/plain": [
       "13    0.68\n",
       "14    1.01\n",
       "26    2.40\n",
       "9     0.65\n",
       "28    2.40\n",
       "32    2.50\n",
       "0     1.60\n",
       "Name: SellingPriceInCr, dtype: float64"
      ]
     },
     "execution_count": 16,
     "metadata": {},
     "output_type": "execute_result"
    }
   ],
   "source": [
    "y_test"
   ]
  },
  {
   "cell_type": "code",
   "execution_count": 17,
   "id": "f24dd00a",
   "metadata": {},
   "outputs": [],
   "source": [
    "from sklearn.metrics import mean_squared_error as mse"
   ]
  },
  {
   "cell_type": "code",
   "execution_count": 18,
   "id": "3321df9a",
   "metadata": {},
   "outputs": [],
   "source": [
    "model_rmse=np.sqrt(mse(y_test,y_pred))"
   ]
  },
  {
   "cell_type": "code",
   "execution_count": 19,
   "id": "bb8c1af0",
   "metadata": {},
   "outputs": [
    {
     "name": "stdout",
     "output_type": "stream",
     "text": [
      "RMSE is:  0.23391604419881562\n"
     ]
    }
   ],
   "source": [
    "print(\"RMSE is: \",np.mean(model_rmse))"
   ]
  },
  {
   "cell_type": "code",
   "execution_count": 20,
   "id": "f766c987",
   "metadata": {},
   "outputs": [
    {
     "data": {
      "text/plain": [
       "count    35.000000\n",
       "mean      1.811429\n",
       "std       0.935827\n",
       "min       0.650000\n",
       "25%       0.970000\n",
       "50%       1.750000\n",
       "75%       2.450000\n",
       "max       3.750000\n",
       "Name: SellingPriceInCr, dtype: float64"
      ]
     },
     "execution_count": 20,
     "metadata": {},
     "output_type": "execute_result"
    }
   ],
   "source": [
    "Price.describe()"
   ]
  }
 ],
 "metadata": {
  "kernelspec": {
   "display_name": "Python 3 (ipykernel)",
   "language": "python",
   "name": "python3"
  },
  "language_info": {
   "codemirror_mode": {
    "name": "ipython",
    "version": 3
   },
   "file_extension": ".py",
   "mimetype": "text/x-python",
   "name": "python",
   "nbconvert_exporter": "python",
   "pygments_lexer": "ipython3",
   "version": "3.9.7"
  }
 },
 "nbformat": 4,
 "nbformat_minor": 5
}
